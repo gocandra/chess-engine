{
 "cells": [
  {
   "cell_type": "markdown",
   "id": "846ad629",
   "metadata": {},
   "source": [
    "# Chess engine\n",
    "\n",
    "\n",
    "La verdad que nunca me gusto jugar al ajedrez, ni tampoco me gusta ahora. El objetivo aca es programar algo que funcione, idealmente que me gane (no va a ser dificil).\n",
    "\n",
    "\n",
    "links\n",
    "------\n",
    "\n",
    "wikipedia:\n",
    "\n",
    "https://en.wikipedia.org/wiki/En_passant\n",
    "\n",
    "https://en.wikipedia.org/wiki/Fischer_random_chess\n",
    "\n",
    "https://en.wikipedia.org/wiki/Forsyth%E2%80%93Edwards_Notation\n",
    "\n",
    "PGN is a sequence of moves from some position that describe a game, while the FEN represents an exact layout of pieces. "
   ]
  },
  {
   "cell_type": "code",
   "execution_count": 10,
   "id": "bc18cdfd",
   "metadata": {},
   "outputs": [
    {
     "name": "stdout",
     "output_type": "stream",
     "text": [
      "Requirement already satisfied: chess in ./venv/lib/python3.8/site-packages (1.9.2)\n",
      "\u001b[33mWARNING: You are using pip version 20.1.1; however, version 22.1.2 is available.\n",
      "You should consider upgrading via the '/home/gocandra/workspace/chess/venv/bin/python -m pip install --upgrade pip' command.\u001b[0m\n",
      "Note: you may need to restart the kernel to use updated packages.\n"
     ]
    }
   ],
   "source": [
    "%pip install chess"
   ]
  },
  {
   "cell_type": "code",
   "execution_count": 11,
   "id": "751cd856",
   "metadata": {},
   "outputs": [],
   "source": [
    "import chess\n",
    "import chess.svg\n",
    "import chess.pgn\n",
    "import random\n",
    "from IPython.display import SVG, display"
   ]
  },
  {
   "cell_type": "code",
   "execution_count": 12,
   "id": "b86c062b",
   "metadata": {},
   "outputs": [],
   "source": [
    "def show_svg(svg):\n",
    "    display(SVG(svg))"
   ]
  },
  {
   "cell_type": "code",
   "execution_count": 16,
   "id": "46f1e56c",
   "metadata": {},
   "outputs": [],
   "source": [
    "# TODO: fix export pgn (https://www.chess.com/analysis)\n",
    "def run_game(policy, show_board=False):\n",
    "    #game = chess.pgn.Game()\n",
    "    board = chess.Board()        \n",
    "    while not board.is_game_over():\n",
    "        next_move = policy(board)\n",
    "        if not next_move: \n",
    "            print(\"DONE: NO LEGAL MOVES LEFT\")\n",
    "            break\n",
    "        move = chess.Move.from_uci(next_move)\n",
    "        board.push(move) \n",
    "        if show_board: show_svg(chess.svg.board(board, size=350))\n",
    "    #game.from_board(board)\n",
    "    #print(game)\n",
    "    print(board.outcome())"
   ]
  },
  {
   "cell_type": "markdown",
   "id": "96c67332",
   "metadata": {},
   "source": [
    "# Politicas\n",
    "\n",
    "Una politica es un mapeo de estados a acciones. Una politica busca maximizar o minimizar una cantidad.\n",
    "Ej: puede maximizar capturas o minimizar cantidad de movimientos en el juego"
   ]
  },
  {
   "cell_type": "code",
   "execution_count": 14,
   "id": "721672d2",
   "metadata": {},
   "outputs": [
    {
     "name": "stdout",
     "output_type": "stream",
     "text": [
      "Outcome(termination=<Termination.SEVENTYFIVE_MOVES: 4>, winner=None)\n"
     ]
    }
   ],
   "source": [
    "# esta politica elige un move random\n",
    "def random_policy(board):\n",
    "    legal_moves = list(board.generate_legal_moves())\n",
    "    if len(legal_moves) == 0: return False\n",
    "    else: \n",
    "        return str(random.choice(legal_moves))\n",
    "\n",
    "run_game(random_policy, False)"
   ]
  },
  {
   "cell_type": "code",
   "execution_count": 15,
   "id": "56c6d2c7",
   "metadata": {},
   "outputs": [
    {
     "name": "stdout",
     "output_type": "stream",
     "text": [
      "Outcome(termination=<Termination.INSUFFICIENT_MATERIAL: 3>, winner=None)\n"
     ]
    }
   ],
   "source": [
    "# esta politica captura siempre que puede\n",
    "def greedy_capture_policy(board):\n",
    "    legal_moves = list(board.generate_legal_moves())\n",
    "    cap_moves = [move for move in legal_moves if board.is_capture(move)]\n",
    "    if len(cap_moves) > 0: \n",
    "        return str(random.choice(cap_moves))\n",
    "    elif len(legal_moves) > 0: \n",
    "        return str(random.choice(legal_moves))\n",
    "    else: return False\n",
    "    \n",
    "run_game(greedy_capture_policy, False)"
   ]
  },
  {
   "cell_type": "markdown",
   "id": "3753b60b",
   "metadata": {},
   "source": [
    "Ninguno de estos parece ser muy bueno, si la greedy_capture_policy captura mas piezas, pero no entiende nada sobre las reglas y objetivos del ajedrez.\n",
    "\n",
    "\n",
    "que podria hacer?\n",
    "\n",
    "Puedo montar un arbol completo de todos los posibles tableros, ahre que no, se estiman 7728772977965919677164873487685453137329736522 posiciones posibles (http://talkchess.com/forum3/viewtopic.php?f=7&t=77685)\n",
    "\n",
    "Osea, tengo que ser capaz de mirar el estado de un tablero y en base a ese estado predecir cual es el movimiento con mas probabilidades de ganar. \n",
    "deberia jugar la mayor cantidad de partidas posibles (me puedo bajar un txt de PGN's con partidas ya jugadas?) y que esa experiencia sea queryable. \n",
    "\n",
    "me imagino que la politica ve el estado actual del tablero, las acciones posibles y en base a esto decide que accion tomar.\n",
    "\n",
    "puedo hacer un gpt-3 que juegue complete una secuencia de PGN? \n",
    "\n",
    "BASE DE DATOS DE PGN'S:\n",
    "https://database.lichess.org/\n",
    "\n",
    "\"3,454,824,763 standard rated games, played on lichess.org, in PGN format. Each file contains the games for one month only; they are not cumulative.\" - messirve\n",
    "\n",
    "Si puedo filtrarlos por ELO puedo comparar si un modelo entrenado con elos mas altos juega mejor o peor que uno entrenado con bajos o con todos.\n",
    "\n",
    "# hagamos un modelo baseline con una lstm o algo tranca primero, no tiene sentido ser tan animal y mandarse a armar un gpt-3 por mas placentero que sea\n",
    "\n",
    "\n",
    "\n",
    "# Implementemos gpt3\n",
    "\n",
    "Este modelo toma texto como input y genera un token que representa una continuacion plausible del input ej: gpt-3(\"EL PERRO ES\") = \"LINDO\"\n",
    "\n",
    "El formato de las partidas PGN es el siguiente:\n",
    "\n",
    "```\n",
    "[Event \"Rated Bullet tournament https://lichess.org/tournament/yc1WW2Ox\"]\n",
    "[Site \"https://lichess.org/PpwPOZMq\"]\n",
    "[Date \"2017.04.01\"]\n",
    "[Round \"-\"]\n",
    "[White \"Abbot\"]\n",
    "[Black \"Costello\"]\n",
    "[Result \"0-1\"]\n",
    "[UTCDate \"2017.04.01\"]\n",
    "[UTCTime \"11:32:01\"]\n",
    "[WhiteElo \"2100\"]\n",
    "[BlackElo \"2000\"]\n",
    "[WhiteRatingDiff \"-4\"]\n",
    "[BlackRatingDiff \"+1\"]\n",
    "[WhiteTitle \"FM\"]\n",
    "[ECO \"B30\"]\n",
    "[Opening \"Sicilian Defense: Old Sicilian\"]\n",
    "[TimeControl \"300+0\"]\n",
    "[Termination \"Time forfeit\"]\n",
    "\n",
    "1. e4 { [%eval 0.17] [%clk 0:00:30] } 1... c5 { [%eval 0.19] [%clk 0:00:30] }\n",
    "2. Nf3 { [%eval 0.25] [%clk 0:00:29] } 2... Nc6 { [%eval 0.33] [%clk 0:00:30] }\n",
    "3. Bc4 { [%eval -0.13] [%clk 0:00:28] } 3... e6 { [%eval -0.04] [%clk 0:00:30] }\n",
    "4. c3 { [%eval -0.4] [%clk 0:00:27] } 4... b5? { [%eval 1.18] [%clk 0:00:30] }\n",
    "5. Bb3?! { [%eval 0.21] [%clk 0:00:26] } 5... c4 { [%eval 0.32] [%clk 0:00:29] }\n",
    "6. Bc2 { [%eval 0.2] [%clk 0:00:25] } 6... a5 { [%eval 0.6] [%clk 0:00:29] }\n",
    "7. d4 { [%eval 0.29] [%clk 0:00:23] } 7... cxd3 { [%eval 0.6] [%clk 0:00:27] }\n",
    "8. Qxd3 { [%eval 0.12] [%clk 0:00:22] } 8... Nf6 { [%eval 0.52] [%clk 0:00:26] }\n",
    "9. e5 { [%eval 0.39] [%clk 0:00:21] } 9... Nd5 { [%eval 0.45] [%clk 0:00:25] }\n",
    "10. Bg5?! { [%eval -0.44] [%clk 0:00:18] } 10... Qc7 { [%eval -0.12] [%clk 0:00:23] }\n",
    "11. Nbd2?? { [%eval -3.15] [%clk 0:00:14] } 11... h6 { [%eval -2.99] [%clk 0:00:23] }\n",
    "12. Bh4 { [%eval -3.0] [%clk 0:00:11] } 12... Ba6? { [%eval -0.12] [%clk 0:00:23] }\n",
    "13. b3?? { [%eval -4.14] [%clk 0:00:02] } 13... Nf4? { [%eval -2.73] [%clk 0:00:21] } 0-1\n",
    "```\n",
    "\n",
    "Seria loco poder decirle el ELO del jugador y que cometa los mismos errores! \n",
    "\n",
    "Me imagino que el primer input al modelo va a ser \n",
    "\n",
    "\n",
    "```\n",
    "X = \"\n",
    "  [Event \"Rated Bullet tournament https://lichess.org/tournament/yc1WW2Ox\"]\n",
    "  [Site \"https://lichess.org/PpwPOZMq\"]\n",
    "  [Date \"2017.04.01\"]\n",
    "  [Round \"-\"]\n",
    "  [White \"Abbot\"]\n",
    "  [Black \"Costello\"]\n",
    "  [Result \"0-1\"]\n",
    "  [UTCDate \"2017.04.01\"]\n",
    "  [UTCTime \"11:32:01\"]\n",
    "  [WhiteElo \"2100\"]\n",
    "  [BlackElo \"2000\"]\n",
    "  [WhiteRatingDiff \"-4\"]\n",
    "  [BlackRatingDiff \"+1\"]\n",
    "  [WhiteTitle \"FM\"]\n",
    "  [ECO \"B30\"]\n",
    "  [Opening \"Sicilian Defense: Old Sicilian\"]\n",
    "  [TimeControl \"300+0\"]\n",
    "  [Termination \"Time forfeit\"]\n",
    "\n",
    "  1.  \" \n",
    "\n",
    "Y = e4 { [%eval 0.17] [%clk 0:00:30] } 1... c5 { [%eval 0.19] [%clk 0:00:30] }\n",
    "\n",
    "```\n",
    "\n",
    "AHora si como funciona realmente un gpt-3?\n",
    "vamos con nuestro señor y salvador karpathy\n",
    "https://github.com/karpathy/minGPT"
   ]
  },
  {
   "cell_type": "code",
   "execution_count": null,
   "id": "829cc3d8",
   "metadata": {},
   "outputs": [],
   "source": [
    "# BASELINE MINI-MAX ALGORITHM\n",
    "# https://es.wikipedia.org/wiki/Minimax\n"
   ]
  }
 ],
 "metadata": {
  "kernelspec": {
   "display_name": "Python 3.8.5 ('venv': venv)",
   "language": "python",
   "name": "python3"
  },
  "language_info": {
   "codemirror_mode": {
    "name": "ipython",
    "version": 3
   },
   "file_extension": ".py",
   "mimetype": "text/x-python",
   "name": "python",
   "nbconvert_exporter": "python",
   "pygments_lexer": "ipython3",
   "version": "3.8.5"
  },
  "vscode": {
   "interpreter": {
    "hash": "4c41a224fddfaba5ba74d91ef2d47e8d55f1abb0e15614ceb3b6ebc3f29e5182"
   }
  }
 },
 "nbformat": 4,
 "nbformat_minor": 5
}
