{
 "cells": [
  {
   "cell_type": "markdown",
   "id": "846ad629",
   "metadata": {},
   "source": [
    "# Chess engine\n",
    "\n",
    "\n",
    "La verdad que nunca me gusto jugar al ajedrez, ni tampoco me gusta ahora. El objetivo aca es programar algo que funcione, idealmente que me gane (no va a ser dificil).\n",
    "\n",
    "\n",
    "links\n",
    "------\n",
    "\n",
    "wikipedia:\n",
    "\n",
    "https://en.wikipedia.org/wiki/En_passant\n",
    "\n",
    "https://en.wikipedia.org/wiki/Fischer_random_chess\n",
    "\n",
    "https://en.wikipedia.org/wiki/Forsyth%E2%80%93Edwards_Notation\n",
    "\n",
    "PGN is a sequence of moves from some position that describe a game, while the FEN represents an exact layout of pieces. "
   ]
  },
  {
   "cell_type": "code",
   "execution_count": 1,
   "id": "bc18cdfd",
   "metadata": {},
   "outputs": [
    {
     "name": "stdout",
     "output_type": "stream",
     "text": [
      "Collecting chess\n",
      "  Using cached chess-1.9.2-py3-none-any.whl (148 kB)\n",
      "Installing collected packages: chess\n",
      "Successfully installed chess-1.9.2\n",
      "Note: you may need to restart the kernel to use updated packages.\n"
     ]
    }
   ],
   "source": [
    "%pip install chess"
   ]
  },
  {
   "cell_type": "code",
   "execution_count": 2,
   "id": "751cd856",
   "metadata": {},
   "outputs": [],
   "source": [
    "import chess\n",
    "import chess.svg\n",
    "import chess.pgn\n",
    "import random\n",
    "from IPython.display import SVG, display"
   ]
  },
  {
   "cell_type": "code",
   "execution_count": 3,
   "id": "b86c062b",
   "metadata": {},
   "outputs": [],
   "source": [
    "def show_svg(svg):\n",
    "    display(SVG(svg))"
   ]
  },
  {
   "cell_type": "code",
   "execution_count": 4,
   "id": "46f1e56c",
   "metadata": {},
   "outputs": [],
   "source": [
    "# TODO: fix export pgn (https://www.chess.com/analysis)\n",
    "def run_game(policy, show_board=False):\n",
    "    #game = chess.pgn.Game()\n",
    "    board = chess.Board()        \n",
    "    while not board.is_game_over():\n",
    "        next_move = policy(board)\n",
    "        if not next_move: \n",
    "            print(\"DONE: NO LEGAL MOVES LEFT\")\n",
    "            break\n",
    "        move = chess.Move.from_uci(next_move)\n",
    "        board.push(move) \n",
    "        if show_board: show_svg(chess.svg.board(board, size=350))\n",
    "    #game.from_board(board)\n",
    "    #print(game)\n",
    "    print(board.outcome())"
   ]
  },
  {
   "cell_type": "markdown",
   "id": "96c67332",
   "metadata": {},
   "source": [
    "# Politicas\n",
    "\n",
    "Una politica es un mapeo de estados a acciones. Una politica busca maximizar o minimizar una cantidad.\n",
    "Ej: puede maximizar capturas o minimizar cantidad de movimientos en el juego"
   ]
  },
  {
   "cell_type": "code",
   "execution_count": 5,
   "id": "721672d2",
   "metadata": {},
   "outputs": [
    {
     "name": "stdout",
     "output_type": "stream",
     "text": [
      "Outcome(termination=<Termination.INSUFFICIENT_MATERIAL: 3>, winner=None)\n"
     ]
    }
   ],
   "source": [
    "# esta politica elige un move random\n",
    "def random_policy(board):\n",
    "    legal_moves = list(board.generate_legal_moves())\n",
    "    if len(legal_moves) == 0: return False\n",
    "    else: \n",
    "        return str(random.choice(legal_moves))\n",
    "\n",
    "run_game(random_policy, False)"
   ]
  },
  {
   "cell_type": "code",
   "execution_count": 6,
   "id": "56c6d2c7",
   "metadata": {},
   "outputs": [
    {
     "name": "stdout",
     "output_type": "stream",
     "text": [
      "Outcome(termination=<Termination.INSUFFICIENT_MATERIAL: 3>, winner=None)\n"
     ]
    }
   ],
   "source": [
    "# esta politica captura siempre que puede\n",
    "def greedy_capture_policy(board):\n",
    "    legal_moves = list(board.generate_legal_moves())\n",
    "    cap_moves = [move for move in legal_moves if board.is_capture(move)]\n",
    "    if len(cap_moves) > 0: \n",
    "        return str(random.choice(cap_moves))\n",
    "    elif len(legal_moves) > 0: \n",
    "        return str(random.choice(legal_moves))\n",
    "    else: return False\n",
    "    \n",
    "run_game(greedy_capture_policy, False)"
   ]
  },
  {
   "cell_type": "markdown",
   "id": "3753b60b",
   "metadata": {},
   "source": [
    "Ninguno de estos parece ser muy bueno, si la greedy_capture_policy captura mas piezas, pero no entiende nada sobre las reglas y objetivos del ajedrez.\n",
    "\n",
    "\n",
    "que podria hacer?\n",
    "\n",
    "Puedo montar un arbol completo de todos los posibles tableros, ahre que no, se estiman 7728772977965919677164873487685453137329736522 posiciones posibles (http://talkchess.com/forum3/viewtopic.php?f=7&t=77685)\n",
    "\n",
    "Osea, tengo que ser capaz de mirar el estado de un tablero y en base a ese estado predecir cual es el movimiento con mas probabilidades de ganar. \n",
    "deberia jugar la mayor cantidad de partidas posibles (me puedo bajar un txt de PGN's con partidas ya jugadas?) y que esa experiencia sea queryable. \n",
    "\n",
    "me imagino que la politica ve el estado actual del tablero, las acciones posibles y en base a esto decide que accion tomar.\n",
    "\n",
    "puedo hacer un gpt-3 que juegue complete una secuencia de PGN? \n",
    "\n",
    "BASE DE DATOS DE PGN'S:\n",
    "https://database.lichess.org/\n",
    "\n",
    "\"3,454,824,763 standard rated games, played on lichess.org, in PGN format. Each file contains the games for one month only; they are not cumulative.\" - messirve\n",
    "\n",
    "Si puedo filtrarlos por ELO puedo comparar si un modelo entrenado con elos mas altos juega mejor o peor que uno entrenado con bajos o con todos.\n",
    "\n",
    "# hagamos un modelo baseline con una lstm o algo tranca primero, no tiene sentido ser tan animal y mandarse a armar un gpt-3 por mas placentero que sea\n",
    "\n",
    "\n",
    "\n",
    "# Implementemos gpt3\n",
    "\n",
    "Este modelo toma texto como input y genera un token que representa una continuacion plausible del input ej: gpt-3(\"EL PERRO ES\") = \"LINDO\"\n",
    "\n",
    "El formato de las partidas PGN es el siguiente:\n",
    "\n",
    "```\n",
    "[Event \"Rated Bullet tournament https://lichess.org/tournament/yc1WW2Ox\"]\n",
    "[Site \"https://lichess.org/PpwPOZMq\"]\n",
    "[Date \"2017.04.01\"]\n",
    "[Round \"-\"]\n",
    "[White \"Abbot\"]\n",
    "[Black \"Costello\"]\n",
    "[Result \"0-1\"]\n",
    "[UTCDate \"2017.04.01\"]\n",
    "[UTCTime \"11:32:01\"]\n",
    "[WhiteElo \"2100\"]\n",
    "[BlackElo \"2000\"]\n",
    "[WhiteRatingDiff \"-4\"]\n",
    "[BlackRatingDiff \"+1\"]\n",
    "[WhiteTitle \"FM\"]\n",
    "[ECO \"B30\"]\n",
    "[Opening \"Sicilian Defense: Old Sicilian\"]\n",
    "[TimeControl \"300+0\"]\n",
    "[Termination \"Time forfeit\"]\n",
    "\n",
    "1. e4 { [%eval 0.17] [%clk 0:00:30] } 1... c5 { [%eval 0.19] [%clk 0:00:30] }\n",
    "2. Nf3 { [%eval 0.25] [%clk 0:00:29] } 2... Nc6 { [%eval 0.33] [%clk 0:00:30] }\n",
    "3. Bc4 { [%eval -0.13] [%clk 0:00:28] } 3... e6 { [%eval -0.04] [%clk 0:00:30] }\n",
    "4. c3 { [%eval -0.4] [%clk 0:00:27] } 4... b5? { [%eval 1.18] [%clk 0:00:30] }\n",
    "5. Bb3?! { [%eval 0.21] [%clk 0:00:26] } 5... c4 { [%eval 0.32] [%clk 0:00:29] }\n",
    "6. Bc2 { [%eval 0.2] [%clk 0:00:25] } 6... a5 { [%eval 0.6] [%clk 0:00:29] }\n",
    "7. d4 { [%eval 0.29] [%clk 0:00:23] } 7... cxd3 { [%eval 0.6] [%clk 0:00:27] }\n",
    "8. Qxd3 { [%eval 0.12] [%clk 0:00:22] } 8... Nf6 { [%eval 0.52] [%clk 0:00:26] }\n",
    "9. e5 { [%eval 0.39] [%clk 0:00:21] } 9... Nd5 { [%eval 0.45] [%clk 0:00:25] }\n",
    "10. Bg5?! { [%eval -0.44] [%clk 0:00:18] } 10... Qc7 { [%eval -0.12] [%clk 0:00:23] }\n",
    "11. Nbd2?? { [%eval -3.15] [%clk 0:00:14] } 11... h6 { [%eval -2.99] [%clk 0:00:23] }\n",
    "12. Bh4 { [%eval -3.0] [%clk 0:00:11] } 12... Ba6? { [%eval -0.12] [%clk 0:00:23] }\n",
    "13. b3?? { [%eval -4.14] [%clk 0:00:02] } 13... Nf4? { [%eval -2.73] [%clk 0:00:21] } 0-1\n",
    "```\n",
    "\n",
    "Seria loco poder decirle el ELO del jugador y que cometa los mismos errores! \n",
    "\n",
    "Me imagino que el primer input al modelo va a ser \n",
    "\n",
    "\n",
    "```\n",
    "X = \"\n",
    "  [Event \"Rated Bullet tournament https://lichess.org/tournament/yc1WW2Ox\"]\n",
    "  [Site \"https://lichess.org/PpwPOZMq\"]\n",
    "  [Date \"2017.04.01\"]\n",
    "  [Round \"-\"]\n",
    "  [White \"Abbot\"]\n",
    "  [Black \"Costello\"]\n",
    "  [Result \"0-1\"]\n",
    "  [UTCDate \"2017.04.01\"]\n",
    "  [UTCTime \"11:32:01\"]\n",
    "  [WhiteElo \"2100\"]\n",
    "  [BlackElo \"2000\"]\n",
    "  [WhiteRatingDiff \"-4\"]\n",
    "  [BlackRatingDiff \"+1\"]\n",
    "  [WhiteTitle \"FM\"]\n",
    "  [ECO \"B30\"]\n",
    "  [Opening \"Sicilian Defense: Old Sicilian\"]\n",
    "  [TimeControl \"300+0\"]\n",
    "  [Termination \"Time forfeit\"]\n",
    "\n",
    "  1.  \" \n",
    "\n",
    "Y = e4 { [%eval 0.17] [%clk 0:00:30] } 1... c5 { [%eval 0.19] [%clk 0:00:30] }\n",
    "\n",
    "```\n",
    "\n",
    "AHora si como funciona realmente un gpt-3?\n",
    "vamos con nuestro señor y salvador karpathy\n",
    "https://github.com/karpathy/minGPT\n",
    "http://nlp.seas.harvard.edu/2018/04/03/attention.html\n",
    "http://jalammar.github.io/illustrated-transformer/"
   ]
  },
  {
   "cell_type": "code",
   "execution_count": 7,
   "id": "829cc3d8",
   "metadata": {},
   "outputs": [
    {
     "name": "stdout",
     "output_type": "stream",
     "text": [
      "\u001b[33m  WARNING: Retrying (Retry(total=4, connect=None, read=None, redirect=None, status=None)) after connection broken by 'ReadTimeoutError(\"HTTPSConnectionPool(host='files.pythonhosted.org', port=443): Read timed out. (read timeout=15)\")': /packages/53/38/ffee0f0515cfd95fc48c2e97d8d16c4ef4edf904a7805fadc6870c096cff/torch-1.8.1-cp39-cp39-manylinux1_x86_64.whl\u001b[0m\n",
      "\u001b[33m  WARNING: Retrying (Retry(total=3, connect=None, read=None, redirect=None, status=None)) after connection broken by 'ReadTimeoutError(\"HTTPSConnectionPool(host='files.pythonhosted.org', port=443): Read timed out. (read timeout=15)\")': /packages/53/38/ffee0f0515cfd95fc48c2e97d8d16c4ef4edf904a7805fadc6870c096cff/torch-1.8.1-cp39-cp39-manylinux1_x86_64.whl\u001b[0m\n"
     ]
    }
   ],
   "source": [
    "# BASELINE MINI-MAX ALGORITHM\n",
    "# https://es.wikipedia.org/wiki/Minimax\n",
    "! pip install --quiet \"pytorch-lightning>=1.3\" \"torchvision\" \"seaborn\" \"torchmetrics>=0.3\" \"matplotlib\" \"torch>=1.6, <1.9\" \"ipython[notebook]\""
   ]
  },
  {
   "cell_type": "code",
   "execution_count": 41,
   "id": "31442ca4",
   "metadata": {},
   "outputs": [
    {
     "name": "stdout",
     "output_type": "stream",
     "text": [
      "Outcome(termination=<Termination.STALEMATE: 2>, winner=None)\n",
      "1/2-1/2\n",
      "[Event \"?\"]\n",
      "[Site \"?\"]\n",
      "[Date \"????.??.??\"]\n",
      "[Round \"?\"]\n",
      "[White \"random_policy\"]\n",
      "[Black \"greedy_capture_policy\"]\n",
      "[Result \"1/2-1/2\"]\n",
      "\n",
      "1. g3 b6 2. h4 c5 3. Rh2 d6 4. Rh3 Bxh3 5. Nc3 Bxf1 6. e3 g6 7. g4 e6 8. e4 Qxh4 9. b3 Qxf2+ 10. Kxf2 Bh3 11. Kg3 Bxg4 12. Qe1 Ne7 13. d3 d5 14. Nge2 dxe4 15. Kf4 exd3 16. Ng1 dxc2 17. Nce2 Bxe2 18. Be3 c1=B 19. Qf1 Bxf1 20. Ke4 Bxe3 21. a3 Bxg1 22. Rb1 Bh6 23. Ra1 g5 24. Rxf1 Nd5 25. Rxf7 Kxf7 26. Kd3 Re8 27. Kd2 Bg7 28. Kc1 Re7 29. Kb1 Be5 30. Ka2 Bh8 31. a4 a5 32. b4 cxb4 33. Kb1 Raa7 34. Kc1 Nc6 35. Kc2 Re8 36. Kd3 Nc3 37. Kd2 Nxa4 38. Kd1 Bc5 39. Kd2 Raa8 40. Kc1 Kg8 41. Kd1 e5 42. Kc2 g4 43. Kb1 Red8 44. Ka2 Bd6 45. Kb3 Rdb8 46. Kxa4 e4 47. Kb5 Ra7 48. Kxc6 Rd7 49. Kxd7 h6 50. Kc6 Re8 51. Kxb6 Kg7 52. Kb5 Bc5 53. Kxc5 Kg6 54. Kd5 Re6 55. Kxe6 Be5 56. Kd5 Bc3 57. Kc4 Bg7 58. Kb5 h5 59. Kc5 Kf7 60. Kb5 Bh8 61. Ka4 Be5 62. Kb3 Bf4 63. Kc2 Ke8 64. Kb1 Bc7 65. Kc1 Bb8 66. Kd1 Be5 67. Kc2 Bf6 68. Kd1 a4 69. Kc1 Kd7 70. Kb1 Bg7 71. Kc1 Bf8 72. Kd2 Bd6 73. Kc1 Bg3 74. Kd2 Ke7 75. Ke2 Bh2 76. Kf1 Kf8 77. Ke1 Bc7 78. Ke2 Be5 79. Kf2 Bc7 80. Ke3 Bf4+ 81. Kd4 Kg7 82. Kxe4 b3 83. Kd5 Kg8 84. Ke4 Bg5 85. Ke5 Bc1 86. Ke4 Kh7 87. Kf5 Kh8 88. Kf6 Bd2 89. Kf7 Bg5 90. Ke8 a3 91. Kf8 Kh7 92. Kf7 b2 93. Kf8 g3 94. Ke8 g2 95. Kf8 Bh4 96. Kf7 Bd8 97. Ke6 Bb6 98. Ke7 Bd4 99. Kd8 Bb6+ 100. Kc8 Bf2 101. Kb8 b1=Q+ 102. Kc7 Bd4 103. Kd8 Qf1 104. Kc7 Kh8 105. Kb7 Bc3 106. Kc7 Qd3 107. Kb8 g1=N 108. Ka8 Bf6 109. Ka7 Qe3+ 110. Ka8 Be7 111. Kb8 Bc5 112. Kc8 Qb3 113. Kd7 Qd3+ 114. Kc7 Bd4 115. Kc8 Qf5+ 116. Kd8 Qb5 117. Kc7 Ne2 118. Kd6 Ng1 119. Kc7 Kh7 120. Kd6 Qb4+ 121. Kc7 Qb1 122. Kc6 Qa2 123. Kc7 Qf2 124. Kb8 Kh6 125. Ka8 Qf1 126. Kb7 Bf6 127. Kb8 Qc1 128. Ka7 Bh8 129. Ka6 Bg7 130. Kb6 Qc4 131. Kb7 Qe4+ 132. Kb6 Qc4 133. Ka7 Qf1 134. Ka8 Qc1 135. Kb8 Bf8 136. Ka7 Bd6 137. Ka8 Ne2 138. Kb7 Kg6 139. Ka8 Qc6+ 140. Ka7 Nc3 1/2-1/2\n"
     ]
    }
   ],
   "source": [
    "\n",
    "def minimax_policy(board, max=True):\n",
    "    #searches through all posible moves (with a limit)\n",
    "    legal_moves = list(board.generate_legal_moves())\n",
    "\n",
    "\n",
    "\n",
    "def run_game(w_policy, b_policy, show_board=False):\n",
    "    board = chess.Board()        \n",
    "    game = chess.pgn.Game()\n",
    "    game.headers[\"White\"] = w_policy. __name__\n",
    "    game.headers[\"Black\"] = b_policy. __name__\n",
    "    game.setup(board)\n",
    "    node = game\n",
    "    while not board.is_game_over():\n",
    "        next_move = None\n",
    "        if board.turn:\n",
    "            next_move = w_policy(board)\n",
    "        else:\n",
    "            next_move = b_policy(board)\n",
    "        if not next_move: \n",
    "            print(\"DONE: NO LEGAL MOVES LEFT\")\n",
    "            break\n",
    "        move = chess.Move.from_uci(next_move)\n",
    "        board.push(move) \n",
    "        node = node.add_variation(move) \n",
    "\n",
    "        if show_board: show_svg(chess.svg.board(board, size=350))\n",
    "    game.headers[\"Result\"] = str(board.result())\n",
    "    print(game)\n",
    "\n",
    "run_game(random_policy, greedy_capture_policy, False)"
   ]
  },
  {
   "cell_type": "code",
   "execution_count": null,
   "id": "8001a140",
   "metadata": {},
   "outputs": [],
   "source": []
  }
 ],
 "metadata": {
  "kernelspec": {
   "display_name": "Python 3.9.5 64-bit",
   "language": "python",
   "name": "python3"
  },
  "language_info": {
   "codemirror_mode": {
    "name": "ipython",
    "version": 3
   },
   "file_extension": ".py",
   "mimetype": "text/x-python",
   "name": "python",
   "nbconvert_exporter": "python",
   "pygments_lexer": "ipython3",
   "version": "3.9.5"
  },
  "vscode": {
   "interpreter": {
    "hash": "916dbcbb3f70747c44a77c7bcd40155683ae19c65e1c03b4aa3499c5328201f1"
   }
  }
 },
 "nbformat": 4,
 "nbformat_minor": 5
}
