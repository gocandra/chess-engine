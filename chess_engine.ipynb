{
 "cells": [
  {
   "cell_type": "markdown",
   "id": "846ad629",
   "metadata": {},
   "source": [
    "# Chess engine\n",
    "\n",
    "wikipedia:\n",
    "\n",
    "https://en.wikipedia.org/wiki/Fischer_random_chess\n",
    "\n",
    "https://en.wikipedia.org/wiki/Forsyth%E2%80%93Edwards_Notation\n",
    "\n",
    "PGN is a sequence of moves from some position that describe a game, while the FEN represents an exact layout of pieces. "
   ]
  },
  {
   "cell_type": "code",
   "execution_count": 2,
   "id": "bc18cdfd",
   "metadata": {},
   "outputs": [
    {
     "name": "stdout",
     "output_type": "stream",
     "text": [
      "Requirement already satisfied: chess in ./venv/lib/python3.8/site-packages (1.9.2)\n",
      "\u001b[33mWARNING: You are using pip version 20.1.1; however, version 22.1.2 is available.\n",
      "You should consider upgrading via the '/home/gocandra/workspace/chess/venv/bin/python -m pip install --upgrade pip' command.\u001b[0m\n"
     ]
    }
   ],
   "source": [
    "!pip install chess"
   ]
  },
  {
   "cell_type": "code",
   "execution_count": 3,
   "id": "751cd856",
   "metadata": {},
   "outputs": [],
   "source": [
    "import chess\n",
    "import chess.svg\n",
    "import chess.pgn\n",
    "import random\n",
    "from IPython.display import SVG, display"
   ]
  },
  {
   "cell_type": "code",
   "execution_count": 4,
   "id": "b86c062b",
   "metadata": {},
   "outputs": [],
   "source": [
    "def show_svg(svg):\n",
    "    display(SVG(svg))"
   ]
  },
  {
   "cell_type": "code",
   "execution_count": 5,
   "id": "46f1e56c",
   "metadata": {},
   "outputs": [],
   "source": [
    "# TODO: fix export pgn (https://www.chess.com/analysis)\n",
    "def run_game(policy, show_board=False):\n",
    "    game = chess.pgn.Game()\n",
    "    board = chess.Board()        \n",
    "    while not board.is_game_over():\n",
    "        next_move = policy(board)\n",
    "        if not next_move: \n",
    "            print(\"DONE: NO LEGAL MOVES LEFT\")\n",
    "            break\n",
    "        move = chess.Move.from_uci(next_move)\n",
    "        board.push(move) \n",
    "        if show_board: show_svg(chess.svg.board(board, size=350))\n",
    "    game.from_board(board)\n",
    "    print(game)\n",
    "    print(board.outcome())"
   ]
  },
  {
   "cell_type": "markdown",
   "id": "96c67332",
   "metadata": {},
   "source": [
    "# Politicas\n",
    "\n",
    "Una politica es un mapeo de estados a acciones. Una politica busca maximizar o minimizar una cantidad.\n",
    "Ej: puede maximizar capturas o minimizar cantidad de movimientos en el juego"
   ]
  },
  {
   "cell_type": "code",
   "execution_count": 6,
   "id": "721672d2",
   "metadata": {},
   "outputs": [
    {
     "name": "stdout",
     "output_type": "stream",
     "text": [
      "[Event \"?\"]\n",
      "[Site \"?\"]\n",
      "[Date \"????.??.??\"]\n",
      "[Round \"?\"]\n",
      "[White \"?\"]\n",
      "[Black \"?\"]\n",
      "[Result \"*\"]\n",
      "\n",
      "*\n",
      "Outcome(termination=<Termination.INSUFFICIENT_MATERIAL: 3>, winner=None)\n"
     ]
    }
   ],
   "source": [
    "# esta politica elige un move random\n",
    "def random_policy(board):\n",
    "    legal_moves = list(board.generate_legal_moves())\n",
    "    if len(legal_moves) == 0: return False\n",
    "    else: \n",
    "        return str(random.choice(legal_moves))\n",
    "\n",
    "run_game(random_policy, False)"
   ]
  },
  {
   "cell_type": "code",
   "execution_count": 11,
   "id": "56c6d2c7",
   "metadata": {},
   "outputs": [
    {
     "name": "stdout",
     "output_type": "stream",
     "text": [
      "[Event \"?\"]\n",
      "[Site \"?\"]\n",
      "[Date \"????.??.??\"]\n",
      "[Round \"?\"]\n",
      "[White \"?\"]\n",
      "[Black \"?\"]\n",
      "[Result \"*\"]\n",
      "\n",
      "*\n",
      "Outcome(termination=<Termination.INSUFFICIENT_MATERIAL: 3>, winner=None)\n"
     ]
    }
   ],
   "source": [
    "# esta politica captura siempre que puede\n",
    "def greedy_capture_policy(board):\n",
    "    legal_moves = list(board.generate_legal_moves())\n",
    "    cap_moves = [move for move in legal_moves if board.is_capture(move)]\n",
    "    if len(cap_moves) > 0: \n",
    "        return str(random.choice(cap_moves))\n",
    "    elif len(legal_moves) > 0: \n",
    "        return str(random.choice(legal_moves))\n",
    "    else: return False\n",
    "    \n",
    "run_game(greedy_capture_policy, False)"
   ]
  },
  {
   "cell_type": "markdown",
   "id": "3753b60b",
   "metadata": {},
   "source": []
  },
  {
   "cell_type": "markdown",
   "id": "3e8191eb",
   "metadata": {},
   "source": []
  }
 ],
 "metadata": {
  "kernelspec": {
   "display_name": "Python 3.8.5 ('venv': venv)",
   "language": "python",
   "name": "python3"
  },
  "language_info": {
   "codemirror_mode": {
    "name": "ipython",
    "version": 3
   },
   "file_extension": ".py",
   "mimetype": "text/x-python",
   "name": "python",
   "nbconvert_exporter": "python",
   "pygments_lexer": "ipython3",
   "version": "3.8.5"
  },
  "vscode": {
   "interpreter": {
    "hash": "4c41a224fddfaba5ba74d91ef2d47e8d55f1abb0e15614ceb3b6ebc3f29e5182"
   }
  }
 },
 "nbformat": 4,
 "nbformat_minor": 5
}
